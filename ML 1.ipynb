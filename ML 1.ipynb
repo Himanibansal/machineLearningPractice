{
 "cells": [
  {
   "cell_type": "markdown",
   "id": "2a2cde00-dc42-4496-8a12-9a69c3ab5c05",
   "metadata": {},
   "source": [
    "### Q1- Explain the following with an Example:\n",
    "A) Artificial Intelligence\n",
    "B) Machine Learning,\n",
    "C) Deep Learning\n",
    "1. Artificial Intelligence:-A virtual assistant like Siri is an example of an AI that will access your contacts, identify the word “Mom,” and call the number.\n",
    "2. Machine Learning,:- we use Google Assistant that employs ML concepts, we take help from online customer support, which is also an example of machine learning, and many more.\n",
    "3. Deep Learning:-Deep learning is a machine learning technique that teaches computers to do what comes naturally to humans: learn by example. Deep learning is a key technology behind driverless cars, enabling them to recognize a stop sign, or to distinguish a pedestrian from a lamppost."
   ]
  },
  {
   "cell_type": "markdown",
   "id": "d142baeb-9b20-4014-ab7b-93eb29a9f690",
   "metadata": {},
   "source": [
    "### Q2- What is supervised Learning ? List some  Example of supervised Learning.\n",
    "\n",
    "Supervised learning is a type of machine learning in which a computer algorithm learns to make predictions or decisions based on labeled data. Labeled data is made up of previously known input variables (also known as features) and output variables (also known as labels). By analyzing patterns and relationships between input and output variables in labeled data, the algorithm learns to make predictions. Image and speech recognition, recommendation systems, and fraud detection are all examples of how supervised learning is used. The examples:-\n",
    "1. Email Filtering\n",
    "2. Credit Scoring\n",
    "3. Voice Recognition"
   ]
  },
  {
   "cell_type": "markdown",
   "id": "f7afa28e-3ca3-49ea-abbd-370aeaca19b1",
   "metadata": {},
   "source": [
    "### Q3- What is unsupervised Learning ? List some  Example of unsupervised Learning.\n",
    "Unsupervised learning is when it can provide a set of unlabelled data, which it is required to analyze and find patterns inside. The examples are dimension reduction and clustering. The training is supported to the machine with the group of data that has not been labeled, classified, or categorized, and the algorithm required to facilitate on that data without some supervision. The objective of unsupervised learning is to restructure the input record into new features or a set of objects with same patterns.The examples:-\n",
    "1. Organize computing clusters\n",
    "2. Social network analysis\n",
    "3. Market segmentation "
   ]
  },
  {
   "cell_type": "markdown",
   "id": "a58720bc-eb89-4c2d-a335-0cc4d5ec5302",
   "metadata": {},
   "source": [
    "### Q4- What is the difference between AI, ML, DL, and DS?\n",
    "\n",
    "1. AL:-Artificial Intelligence is to teach computers to think, to solve a problem.\n",
    "2. ML:-Machine Learning is a part of Artificial Intelligence and it is one of the techniques to create AI-enabled machines.\n",
    "3. DL:-It is a kind of Machine Learning, that uses neural networks, which mimic the network of neurons connected in the human brain.\n",
    "4. DS:-Data Science isn’t exactly a subset of AI or ML. But, it uses Machine Learning to analyze data and to produce insights that are statistical for decision-making, which is helpful in making better predictions about the future."
   ]
  },
  {
   "cell_type": "markdown",
   "id": "1d945a30-45a9-4046-bb06-175d04fdfdcf",
   "metadata": {},
   "source": [
    "### Q5- What are the main difference between supervised, unsupervised, and sKmi-supervised learning ?\n",
    "\n",
    "supervised learning uses labelled data to train the model but unsupervised don't use any labelled data and semi-supervised can be use label or unlabel data according to requirements of model"
   ]
  },
  {
   "cell_type": "markdown",
   "id": "28d36092-6f4b-4a91-b06f-65941fad3d79",
   "metadata": {},
   "source": [
    "### Q6- What is train, test and validation split? Explain the importance of each term.\n",
    "\n",
    "The motivation is quite simple: you should separate your data into train, validation, and test splits to prevent your model from overfitting and to accurately evaluate your model. The practice is more nuanced."
   ]
  },
  {
   "cell_type": "markdown",
   "id": "f2467070-f55a-48f9-a49f-79b6d3899728",
   "metadata": {},
   "source": [
    "### Q7- How can unsupervised Learning be used in anomaly detection?\n",
    "\n",
    "Anomaly detection techniques of unsupervised nature assume that normal data points occur considerably more frequently than anomalous data points. This assumption is used to classify data points that occur less frequently as anomalies. Unsupervised techniques assign each data point a score instead of a label."
   ]
  },
  {
   "cell_type": "markdown",
   "id": "1e3017b0-4441-4c9a-b71e-727750b4ec31",
   "metadata": {},
   "source": [
    "### Q8- List down some commonly used supervised Learning algorithms and unsupervised Learning algorithms.\n",
    "\n",
    "#### Some popular examples of supervised machine learning algorithms are:\n",
    "1. Linear regression for regression problems.\n",
    "2. Random forest for classification and regression problems.\n",
    "3. Support vector machines for classification problems.\n",
    "\n",
    "#### Some popular examples of unsupervised learning algorithms are:\n",
    "1. k-means for clustering problems.\n",
    "2. Apriori algorithm for association rule learning problems.\n"
   ]
  }
 ],
 "metadata": {
  "kernelspec": {
   "display_name": "Python 3 (ipykernel)",
   "language": "python",
   "name": "python3"
  },
  "language_info": {
   "codemirror_mode": {
    "name": "ipython",
    "version": 3
   },
   "file_extension": ".py",
   "mimetype": "text/x-python",
   "name": "python",
   "nbconvert_exporter": "python",
   "pygments_lexer": "ipython3",
   "version": "3.10.8"
  }
 },
 "nbformat": 4,
 "nbformat_minor": 5
}
