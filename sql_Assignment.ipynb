{
 "cells": [
  {
   "cell_type": "markdown",
   "id": "1eb2d290-c7ae-48cb-ae95-b9c4fec5c66a",
   "metadata": {},
   "source": [
    "### Q1. What is a database? Differentiate between SQL and NoSQL databases.\n",
    "databases:-A database is an organized collection of structured information, or data, typically stored electronically in a computer system.\n",
    "\n",
    "Differentiate between SQL and NoSQL databases:-\n",
    "\n",
    "1.SQL pronounced as “S-Q-L” or as “See-Quel” is primarily called RDBMS or Relational Databases, whereas NoSQL is a Non-relational or Distributed Database.\n",
    "\n",
    "2.Comparing SQL vs NoSQL databases, SQL databases are table-based databases, whereas NoSQL databases can be document-based, key-value pairs, and graph databases.\n",
    "\n",
    "3.SQL databases are vertically scalable, while NoSQL databases are horizontally scalable.\n",
    "\n",
    "4.SQL databases have a predefined schema, whereas NoSQL databases use a dynamic schema for unstructured data.\n",
    "\n",
    "5.Comparing NoSQL vs SQL performance, SQL requires specialized DB hardware for better performance while NoSQL uses commodity hardware.\n"
   ]
  },
  {
   "cell_type": "markdown",
   "id": "f30b3f54-00a5-46dd-aa05-f8a368d7fdcf",
   "metadata": {},
   "source": [
    "### Q2. What is DDL? Explain why CREATE, DROP, ALTER, and TRUNCATE are used with an example.\n",
    "Data Definition Language(DDL) is a subset of SQL and a part of DBMS(Database Management System). DDL consist of Commands to commands like CREATE, ALTER, TRUNCATE and DROP. These commands are used to create or modify the tables in SQL.\n",
    "\n",
    "1.Create is used to create a whole database or just a table.\n",
    "example:-CREATE TABLE Customers;\n",
    "\n",
    "2.DROP is used to delete a whole database or just a table.\n",
    "example:-DROP TABLE Customers;\n",
    "\n",
    "3.ALTER TABLE command adds, deletes, or modifies columns in a table.\n",
    "example:-ALTER TABLE Customers ADD Email varchar(255);\n",
    "\n",
    "4.Truncate is used to delete the data inside the table not the whole table.\n",
    "example:-TRUNCATE TABLE  Customers;"
   ]
  },
  {
   "cell_type": "markdown",
   "id": "c463eaae-53af-4459-b9e1-9f122a914b61",
   "metadata": {},
   "source": [
    "### Q3. What is DML? Explain INSERT, UPDATE, and DELETE with an example.\n",
    "DML is an abbreviation for Data Manipulation Language. Represents a collection of programming languages explicitly used to make changes to the database, such as: CRUD operations to create, read, update and delete data. Using INSERT, SELECT, UPDATE, and DELETE commands.\n",
    "\n",
    "1.The INSERT statement introduces new rows into an existing table.\n",
    "ex\n",
    "2.The DELETE statement removes a row or combination of rows from a table.\n",
    "3.The UPDATE statement enables users to update a row or group of rows in a table."
   ]
  },
  {
   "cell_type": "markdown",
   "id": "4b20ffeb-2025-495d-b5c8-0cc92158297d",
   "metadata": {},
   "source": [
    "### Q4. What is DQL? Explain SELECT with an example.\n",
    "DQL statements are used for performing queries on the data within schema objects. The purpose of the DQL Command is to get some schema relation based on the query passed to it. We can define DQL as follows it is a component of SQL statement that allows getting data from the database and imposing order upon it. It includes the SELECT statement. This command allows getting the data out of the database to perform operations with it. When a SELECT is fired against a table or tables the result is compiled into a further temporary table, which is displayed or perhaps received by the program i.e. a front-end.\n",
    "\n",
    "SELECT: It is used to retrieve data from the database.\n",
    "exaple:-select * customer_name"
   ]
  },
  {
   "cell_type": "markdown",
   "id": "2521b735-0148-46c4-ab71-c4bff29fd7f4",
   "metadata": {},
   "source": [
    "### Q5. Explain Primary Key and Foreign Key.\n",
    "#### Primary Key\n",
    "A primary key is a column -- or a group of columns -- in a table that uniquely identifies the rows of data in that table. For example, in the table below, CustomerNo, which displays the ID number assigned to different customers, is the primary key.\n",
    "#### Foreign Key\n",
    "A foreign key is the one that is used to link two tables together via the primary key. It means the columns of one table points to the primary key attribute of the other table. It further means that if any attribute is set as a primary key attribute will work in another table as a foreign key attribute. But one should know that a foreign key has nothing to do with the primary key."
   ]
  },
  {
   "cell_type": "markdown",
   "id": "832e1cb2-f859-477d-9a6f-2e744967c4ac",
   "metadata": {},
   "source": [
    "### Q6. Write a python code to connect MySQL to python. Explain the cursor() and execute() method.\n",
    "import mysql.connector\n",
    "\n",
    "mydb = mysql.connector.connect(\n",
    "\n",
    "  host=\"localhost\",\n",
    "  \n",
    "  user=\"abc\",\n",
    "  \n",
    "  password=\"password\"\n",
    "  \n",
    ")\n",
    "\n",
    "mycursor = mydb.cursor()\n",
    "\n",
    "\n",
    "cursor():-Allows Python code to execute SQL command in a database session.\n",
    "\n",
    "execute():-attempts to invoke a user-defined procedure"
   ]
  },
  {
   "cell_type": "markdown",
   "id": "08dbfdff-fb7b-4377-ac28-2aaf88023972",
   "metadata": {},
   "source": [
    "### Q7. Give the order of execution of SQL clauses in an SQL query.\n",
    "1.  FROM\t  Tables are joined to get the base data.\n",
    "2.\tWHERE\t  The base data is filtered.\n",
    "3.\tGROUP BY  The filtered base data is grouped.\n",
    "4.\tHAVING\t  The grouped base data is filtered.\n",
    "5.\tSELECT\t  The final data is returned.\n",
    "6.\tORDER BY  The final data is sorted.\n",
    "7. LIMIT\t  The returned data is limited to row count."
   ]
  },
  {
   "cell_type": "code",
   "execution_count": null,
   "id": "a20dc413-34dc-4457-b564-9f957f8ff8b3",
   "metadata": {},
   "outputs": [],
   "source": []
  }
 ],
 "metadata": {
  "kernelspec": {
   "display_name": "Python 3 (ipykernel)",
   "language": "python",
   "name": "python3"
  },
  "language_info": {
   "codemirror_mode": {
    "name": "ipython",
    "version": 3
   },
   "file_extension": ".py",
   "mimetype": "text/x-python",
   "name": "python",
   "nbconvert_exporter": "python",
   "pygments_lexer": "ipython3",
   "version": "3.10.8"
  }
 },
 "nbformat": 4,
 "nbformat_minor": 5
}
